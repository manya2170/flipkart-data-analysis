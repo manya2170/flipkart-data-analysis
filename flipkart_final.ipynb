{
 "cells": [
  {
   "cell_type": "code",
   "execution_count": 1,
   "id": "269dd347-fd63-4b32-861f-d6879fe14343",
   "metadata": {
    "tags": []
   },
   "outputs": [],
   "source": [
    "import os\n",
    "import pandas as pd\n",
    "import requests\n",
    "from bs4 import BeautifulSoup"
   ]
  },
  {
   "cell_type": "code",
   "execution_count": 4,
   "id": "60206698-9deb-4f79-ae9c-58608c43db82",
   "metadata": {
    "tags": []
   },
   "outputs": [
    {
     "name": "stdout",
     "output_type": "stream",
     "text": [
      "200\n"
     ]
    }
   ],
   "source": [
    "'''#main_url = 'https://www.flipkart.com/mobiles/smartphones~type/pr?sid=tyy%2C4io'\n",
    "main_url = 'https://www.flipkart.com/mobiles/smartphones~type/pr?sid=tyy%2C4io&page=' \n",
    "response = requests.get(main_url)\n",
    "contents = response.content\n",
    "print(response.status_code)'''"
   ]
  },
  {
   "cell_type": "code",
   "execution_count": 3,
   "id": "5c2c4a8c-094f-4dac-a6f4-21ab4952efb9",
   "metadata": {},
   "outputs": [
    {
     "name": "stdin",
     "output_type": "stream",
     "text": [
      "Enter the number of pages you want to scrape: 5\n"
     ]
    },
    {
     "name": "stdout",
     "output_type": "stream",
     "text": [
      "--------------------> 5 pages to scraped <-------------------\n"
     ]
    }
   ],
   "source": [
    "new_url = []\n",
    "main_url = 'https://www.flipkart.com/mobiles/smartphones~type/pr?sid=tyy%2C4io&page=' \n",
    "n=int(input(\"Enter the number of pages you want to scrape:\"))\n",
    "\n",
    "print(\"-------------------->\"+\" \"+str(n) + \" \" + \"pages to scraped\"+\" \"+ \"<-------------------\")\n",
    "for i in range(1,n+1):\n",
    "    url=main_url+ str(i)\n",
    "    new_url.append(url)\n",
    "    "
   ]
  },
  {
   "cell_type": "code",
   "execution_count": 4,
   "id": "3cf08c6a-dacc-40ff-a516-89769e31a362",
   "metadata": {},
   "outputs": [
    {
     "data": {
      "text/plain": [
       "['https://www.flipkart.com/mobiles/smartphones~type/pr?sid=tyy%2C4io&page=1',\n",
       " 'https://www.flipkart.com/mobiles/smartphones~type/pr?sid=tyy%2C4io&page=2',\n",
       " 'https://www.flipkart.com/mobiles/smartphones~type/pr?sid=tyy%2C4io&page=3',\n",
       " 'https://www.flipkart.com/mobiles/smartphones~type/pr?sid=tyy%2C4io&page=4',\n",
       " 'https://www.flipkart.com/mobiles/smartphones~type/pr?sid=tyy%2C4io&page=5']"
      ]
     },
     "execution_count": 4,
     "metadata": {},
     "output_type": "execute_result"
    }
   ],
   "source": [
    "new_url"
   ]
  },
  {
   "cell_type": "code",
   "execution_count": 5,
   "id": "35d09578-7feb-4f09-9457-e36a0a05b351",
   "metadata": {},
   "outputs": [],
   "source": [
    "def full_link(link):\n",
    "    index = link.find(\"?\")\n",
    "    if index != -1:\n",
    "        return link[:index]\n",
    "    return link"
   ]
  },
  {
   "cell_type": "code",
   "execution_count": 6,
   "id": "4da57130-9bd2-4d82-b7be-f40056f78263",
   "metadata": {
    "tags": []
   },
   "outputs": [
    {
     "name": "stdout",
     "output_type": "stream",
     "text": [
      "-------------> Function is Running <-------------\n"
     ]
    }
   ],
   "source": [
    "print(\"-------------> Function is Running <-------------\")\n",
    "def scraper(main_url):\n",
    "    print(\"-----------> Preparing CSV File soon! <--------------\")\n",
    "    mobile_name = []\n",
    "    price = []\n",
    "    product_star = []\n",
    "    product_rating = []\n",
    "    product_links = []\n",
    "    response = requests.get(main_url)\n",
    "    contents = response.content\n",
    "\n",
    "    if response.status_code == 200:\n",
    "        soup = BeautifulSoup(contents, 'html.parser')\n",
    "        for tag in soup.find_all('div',attrs = {'class' : '_2kHMtA'}):\n",
    "            try:\n",
    "                mobile_name.append(tag.find('div', attrs={'class': '_4rR01T'}).text.strip())\n",
    "            except Exception as e:\n",
    "                mobile_name.append(\"No Mobile Found\")\n",
    "            try:\n",
    "                price.append(tag.find('div', attrs={'class': '_30jeq3 _1_WHN1'}).text.strip())\n",
    "            except Exception as e:\n",
    "                price.append(\"Price Not Found\")\n",
    "            try:\n",
    "                product_star.append(tag.find('div', attrs={'class':\"_3LWZlK\"}).text.strip()) \n",
    "            except Exception as e:\n",
    "                product_star.append('no stars found')\n",
    "            try:\n",
    "                product_links.append(full_link(tag.find('a', attrs = {'class' : \"_1fQZEK\", 'href' : True}).get('href')))\n",
    "            except Exception as e:\n",
    "                product_links.append(\"No Links Found\")\n",
    "            try:\n",
    "                product_rating.append(tag.find('span',attrs={'class':\"_2_R_DZ\"}).text.strip())\n",
    "            except Exception as e:\n",
    "                product_rating.append('No Rating found')\n",
    "    else:\n",
    "        print(\"status_not_ok\")\n",
    "    data = {\n",
    "    'Mobile': mobile_name,\n",
    "    'Price': price,\n",
    "    'Rating': product_rating,\n",
    "    'Star': product_star,\n",
    "    'Link': product_links\n",
    "    }\n",
    "    print(\"-------------> Scraped CSV File is Ready <----------------\")\n",
    "\n",
    "    return pd.DataFrame(data)"
   ]
  },
  {
   "cell_type": "code",
   "execution_count": 7,
   "id": "6f75b040-02cd-472a-a38a-c22199cd0303",
   "metadata": {
    "tags": []
   },
   "outputs": [
    {
     "name": "stdin",
     "output_type": "stream",
     "text": [
      "Enter the Name you want to give to the csv file scraped_data_Flipkart\n"
     ]
    },
    {
     "name": "stdout",
     "output_type": "stream",
     "text": [
      "-----------> Preparing CSV File soon! <--------------\n",
      "-------------> Scraped CSV File is Ready <----------------\n",
      "-----------> Preparing CSV File soon! <--------------\n",
      "-------------> Scraped CSV File is Ready <----------------\n",
      "-----------> Preparing CSV File soon! <--------------\n",
      "-------------> Scraped CSV File is Ready <----------------\n",
      "-----------> Preparing CSV File soon! <--------------\n",
      "-------------> Scraped CSV File is Ready <----------------\n",
      "-----------> Preparing CSV File soon! <--------------\n",
      "-------------> Scraped CSV File is Ready <----------------\n"
     ]
    }
   ],
   "source": [
    "csv_name = input('Enter the Name you want to give to the csv file')+'.csv'\n",
    "for url in new_url:\n",
    "    scraped_data = scraper(url)\n",
    "    scraped_data.to_csv(csv_name, index=False, mode='a', header=not os.path.isfile(csv_name))\n",
    "#scraped_data.to_csv(csv_name,index = False)"
   ]
  },
  {
   "cell_type": "code",
   "execution_count": null,
   "id": "a7a13cd7-6f00-4cf0-99a8-438e2cdda619",
   "metadata": {},
   "outputs": [],
   "source": []
  }
 ],
 "metadata": {
  "kernelspec": {
   "display_name": "Python 3 (ipykernel)",
   "language": "python",
   "name": "python3"
  },
  "language_info": {
   "codemirror_mode": {
    "name": "ipython",
    "version": 3
   },
   "file_extension": ".py",
   "mimetype": "text/x-python",
   "name": "python",
   "nbconvert_exporter": "python",
   "pygments_lexer": "ipython3",
   "version": "3.9.18"
  }
 },
 "nbformat": 4,
 "nbformat_minor": 5
}
